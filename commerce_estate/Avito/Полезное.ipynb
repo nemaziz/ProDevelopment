{
 "cells": [
  {
   "cell_type": "code",
   "execution_count": 18,
   "id": "366edc9b-de14-4b32-8fde-311f5c8328f9",
   "metadata": {},
   "outputs": [],
   "source": [
    "import pandas as pd\n",
    "import requests as rq\n",
    "from bs4 import BeautifulSoup\n",
    "import json\n",
    "import re\n",
    "from time import sleep\n",
    "\n",
    "from tqdm import tqdm\n",
    "from tqdm.notebook import tqdm\n",
    "\n",
    "import random \n",
    "from datetime import datetime\n",
    "from requests.adapters import HTTPAdapter\n",
    "from urllib3.util.retry import Retry\n",
    "\n",
    "path_sales = r'O:\\Отдел стратегического развития\\Данные\\Avito\\suburb\\Недвижимость\\черновики\\Sales_conv.xlsx'\n",
    "path_supply = r'O:\\Отдел стратегического развития\\Данные\\Avito\\suburb\\Недвижимость\\черновики\\Supply_conv.xlsx'"
   ]
  },
  {
   "cell_type": "code",
   "execution_count": 11,
   "id": "5e96f93b-c5f5-415a-95de-9070c74affeb",
   "metadata": {},
   "outputs": [],
   "source": [
    "sup = pd.read_excel(path_supply)\n",
    "sal = pd.read_excel(path_sales)"
   ]
  },
  {
   "cell_type": "code",
   "execution_count": 15,
   "id": "2f40b207-3850-460c-8ba2-4e01c24d7e13",
   "metadata": {},
   "outputs": [],
   "source": [
    "sup['square_home'] = sup['name'].apply(lambda x: '' if not re.findall(r'([\\d|,]+)', x) else re.findall(r'([\\d|,]+)', x)[0] )"
   ]
  },
  {
   "cell_type": "code",
   "execution_count": 16,
   "id": "73c11806-e5f6-4239-a2fb-0307a7308269",
   "metadata": {},
   "outputs": [],
   "source": [
    "sup['square'] = sup['name'].apply(lambda x: '' if not re.findall(r'([\\d|,]+)', x) else re.findall(r'([\\d|,]+)', x)[-1] )"
   ]
  },
  {
   "cell_type": "code",
   "execution_count": 19,
   "id": "26c6fe4e-1317-48e9-b165-7067a585e8f2",
   "metadata": {},
   "outputs": [],
   "source": [
    "sup.to_excel(path_supply, index = False,\n",
    "           engine='xlsxwriter', engine_kwargs={'options' : { 'strings_to_urls': False}} )   "
   ]
  },
  {
   "cell_type": "code",
   "execution_count": 20,
   "id": "f025af4d-2d93-4444-8b15-b1f8c6c1c5db",
   "metadata": {},
   "outputs": [],
   "source": [
    "sal['square_home'] = sal['name'].apply(lambda x: '' if not re.findall(r'([\\d|,]+)', x) else re.findall(r'([\\d|,]+)', x)[0] )"
   ]
  },
  {
   "cell_type": "code",
   "execution_count": 21,
   "id": "68d18cc7-5128-42bf-9394-b9cc12891e60",
   "metadata": {},
   "outputs": [],
   "source": [
    "sal['square'] = sal['name'].apply(lambda x: '' if not re.findall(r'([\\d|,]+)', x) else re.findall(r'([\\d|,]+)', x)[-1] )"
   ]
  },
  {
   "cell_type": "code",
   "execution_count": 22,
   "id": "39152b06-ee0d-4527-bfa2-04ce6cb5f7e9",
   "metadata": {},
   "outputs": [],
   "source": [
    "sal.to_excel(path_sales, index = False,\n",
    "           engine='xlsxwriter', engine_kwargs={'options' : { 'strings_to_urls': False}} )   "
   ]
  }
 ],
 "metadata": {
  "kernelspec": {
   "display_name": "Python 3 (ipykernel)",
   "language": "python",
   "name": "python3"
  },
  "language_info": {
   "codemirror_mode": {
    "name": "ipython",
    "version": 3
   },
   "file_extension": ".py",
   "mimetype": "text/x-python",
   "name": "python",
   "nbconvert_exporter": "python",
   "pygments_lexer": "ipython3",
   "version": "3.11.5"
  }
 },
 "nbformat": 4,
 "nbformat_minor": 5
}
